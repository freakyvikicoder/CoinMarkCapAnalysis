{
 "cells": [
  {
   "cell_type": "code",
   "execution_count": 38,
   "metadata": {
    "collapsed": true
   },
   "outputs": [],
   "source": [
    "from datetime import date,timedelta\n",
    "import pandas as pd\n",
    "import re\n",
    "import numpy as np"
   ]
  },
  {
   "cell_type": "code",
   "execution_count": 39,
   "metadata": {
    "collapsed": true
   },
   "outputs": [],
   "source": [
    "def allSundays(year):\n",
    "   d = date(year, 1, 1)\n",
    "   d += timedelta(days = 6 - d.weekday())\n",
    "   while d.year == year:\n",
    "      yield d\n",
    "      d += timedelta(days = 7)"
   ]
  },
  {
   "cell_type": "code",
   "execution_count": 40,
   "metadata": {
    "collapsed": true
   },
   "outputs": [],
   "source": [
    "allSundaysList = []\n",
    "for d in allSundays(2017):\n",
    "    allSundaysList.append(str(d).replace('-',''))"
   ]
  },
  {
   "cell_type": "code",
   "execution_count": 41,
   "metadata": {
    "collapsed": true
   },
   "outputs": [],
   "source": [
    "#constants or configuration settings\n",
    "pd.set_option('display.float_format', lambda x: '%.8f' % x)\n",
    "reCleanSplChars = re.compile(r'[a-zA-Z \\t$%,?<>]*')"
   ]
  },
  {
   "cell_type": "code",
   "execution_count": 42,
   "metadata": {
    "collapsed": true
   },
   "outputs": [],
   "source": [
    "def GetDataAndProcess(weekendDate):\n",
    "    #import pdb;pdb.set_trace()\n",
    "    snapshotUrl = 'https://coinmarketcap.com/historical/{0}/'.format(weekendDate)\n",
    "    snapshotCoinDf = pd.read_html(snapshotUrl)[0]\n",
    "    snapshotCoinDf.rename(columns={'#':'RankNum'},inplace=True)\n",
    "    \n",
    "    snapshotCoinDf['PriceClean'] = snapshotCoinDf['Price'].str.replace(reCleanSplChars,'').str.replace(r'[0-9]*(-)[0-9]*','')\n",
    "    snapshotCoinDf['Volume24hClean'] = snapshotCoinDf['Volume (24h)'].str.replace(reCleanSplChars,'')\n",
    "    snapshotCoinDf['P7dClean'] = snapshotCoinDf['% 7d'].str.replace(reCleanSplChars,'')\n",
    "    snapshotCoinDf['PriceClean'] = pd.to_numeric(snapshotCoinDf['PriceClean'])\n",
    "    snapshotCoinDf['Volume24hClean'] = pd.to_numeric(snapshotCoinDf['Volume24hClean'])\n",
    "    snapshotCoinDf['P7dClean'] = pd.to_numeric(snapshotCoinDf['P7dClean'])\n",
    "    return(snapshotCoinDf)"
   ]
  },
  {
   "cell_type": "code",
   "execution_count": 43,
   "metadata": {
    "collapsed": true
   },
   "outputs": [],
   "source": [
    "def filterGroupNCalcData(cleanedDataFrame):\n",
    "    tempDf = cleanedDataFrame[(cleanedDataFrame['PriceClean']>0.0001) & (cleanedDataFrame['PriceClean']<0.01)].copy()\n",
    "    return(tempDf['P7dClean'].groupby(pd.cut(tempDf['Volume24hClean'],[100,1000,10000,tempDf.Volume24hClean.max()]\n",
    "                                             ,labels=['100-1000','1000-10000','10000-MaxVol'])).mean())"
   ]
  },
  {
   "cell_type": "code",
   "execution_count": 44,
   "metadata": {},
   "outputs": [],
   "source": [
    "masterListVar = []\n",
    "for iDay in allSundaysList:    \n",
    "    t = 'tsDataFrame_'+iDay\n",
    "    s = 'summaryDf_'+iDay\n",
    "    dictDf = {}\n",
    "    dictDf[t] = GetDataAndProcess(iDay).copy()\n",
    "    dictDf[s] = filterGroupNCalcData(dictDf[t]).copy()\n",
    "    ##tsDataFrame_+iDay = GetDataAndProcess(iDay).copy()\n",
    "    ##summaryDf_+iDay = filterGroupNCalcData(tsDataFrame_+iDay).copy()\n",
    "    masterListVar.append({'forDate':iDay,'dataSet':dictDf[t],'summaryDataSet':dictDf[s]})"
   ]
  },
  {
   "cell_type": "code",
   "execution_count": 45,
   "metadata": {},
   "outputs": [],
   "source": [
    "excelWriterStream = pd.ExcelWriter('CoinsSummaryAnalysis.xlsx',engine='xlsxwriter')\n",
    "finalSummaryDf = pd.DataFrame()\n",
    "for mlv in masterListVar:\n",
    "    #print(mlv['forDate']);\n",
    "    #print(mlv['summaryDataSet'])\n",
    "    mlv['dataSet'].to_excel(excelWriterStream,sheet_name=mlv['forDate'])\n",
    "    mlv['summaryDataSet'].rename(mlv['forDate'],inplace=True)\n",
    "    finalSummaryDf[mlv['forDate']] = mlv['summaryDataSet']\n",
    "\n",
    "finalSummaryDf.to_excel(excelWriterStream,sheet_name='Summary')\n",
    "excelWriterStream.save()"
   ]
  },
  {
   "cell_type": "code",
   "execution_count": null,
   "metadata": {
    "collapsed": true
   },
   "outputs": [],
   "source": []
  }
 ],
 "metadata": {
  "kernelspec": {
   "display_name": "Python 3",
   "language": "python",
   "name": "python3"
  },
  "language_info": {
   "codemirror_mode": {
    "name": "ipython",
    "version": 3
   },
   "file_extension": ".py",
   "mimetype": "text/x-python",
   "name": "python",
   "nbconvert_exporter": "python",
   "pygments_lexer": "ipython3",
   "version": "3.6.1"
  }
 },
 "nbformat": 4,
 "nbformat_minor": 2
}
